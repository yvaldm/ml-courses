{
 "cells": [
  {
   "cell_type": "code",
   "execution_count": 2,
   "metadata": {},
   "outputs": [],
   "source": [
    "import pandas as pd\n",
    "import numpy as np"
   ]
  },
  {
   "cell_type": "code",
   "execution_count": 24,
   "metadata": {},
   "outputs": [],
   "source": [
    "df = pd.read_csv('https://stepik.org/media/attachments/course/4852/dota_hero_stats.csv')"
   ]
  },
  {
   "cell_type": "code",
   "execution_count": 10,
   "metadata": {},
   "outputs": [
    {
     "data": {
      "text/html": [
       "<div>\n",
       "<style scoped>\n",
       "    .dataframe tbody tr th:only-of-type {\n",
       "        vertical-align: middle;\n",
       "    }\n",
       "\n",
       "    .dataframe tbody tr th {\n",
       "        vertical-align: top;\n",
       "    }\n",
       "\n",
       "    .dataframe thead th {\n",
       "        text-align: right;\n",
       "    }\n",
       "</style>\n",
       "<table border=\"1\" class=\"dataframe\">\n",
       "  <thead>\n",
       "    <tr style=\"text-align: right;\">\n",
       "      <th></th>\n",
       "      <th>Unnamed: 0</th>\n",
       "      <th>attack_type</th>\n",
       "      <th>id</th>\n",
       "      <th>legs</th>\n",
       "      <th>localized_name</th>\n",
       "      <th>name</th>\n",
       "      <th>primary_attr</th>\n",
       "      <th>roles</th>\n",
       "    </tr>\n",
       "  </thead>\n",
       "  <tbody>\n",
       "    <tr>\n",
       "      <th>0</th>\n",
       "      <td>0</td>\n",
       "      <td>Melee</td>\n",
       "      <td>1</td>\n",
       "      <td>2</td>\n",
       "      <td>Anti-Mage</td>\n",
       "      <td>npc_dota_hero_antimage</td>\n",
       "      <td>agi</td>\n",
       "      <td>['Carry', 'Escape', 'Nuker']</td>\n",
       "    </tr>\n",
       "    <tr>\n",
       "      <th>1</th>\n",
       "      <td>1</td>\n",
       "      <td>Melee</td>\n",
       "      <td>2</td>\n",
       "      <td>2</td>\n",
       "      <td>Axe</td>\n",
       "      <td>npc_dota_hero_axe</td>\n",
       "      <td>str</td>\n",
       "      <td>['Initiator', 'Durable', 'Disabler', 'Jungler']</td>\n",
       "    </tr>\n",
       "    <tr>\n",
       "      <th>2</th>\n",
       "      <td>2</td>\n",
       "      <td>Ranged</td>\n",
       "      <td>3</td>\n",
       "      <td>4</td>\n",
       "      <td>Bane</td>\n",
       "      <td>npc_dota_hero_bane</td>\n",
       "      <td>int</td>\n",
       "      <td>['Support', 'Disabler', 'Nuker', 'Durable']</td>\n",
       "    </tr>\n",
       "  </tbody>\n",
       "</table>\n",
       "</div>"
      ],
      "text/plain": [
       "   Unnamed: 0 attack_type  id  legs localized_name                    name  \\\n",
       "0           0       Melee   1     2      Anti-Mage  npc_dota_hero_antimage   \n",
       "1           1       Melee   2     2            Axe       npc_dota_hero_axe   \n",
       "2           2      Ranged   3     4           Bane      npc_dota_hero_bane   \n",
       "\n",
       "  primary_attr                                            roles  \n",
       "0          agi                     ['Carry', 'Escape', 'Nuker']  \n",
       "1          str  ['Initiator', 'Durable', 'Disabler', 'Jungler']  \n",
       "2          int      ['Support', 'Disabler', 'Nuker', 'Durable']  "
      ]
     },
     "execution_count": 10,
     "metadata": {},
     "output_type": "execute_result"
    }
   ],
   "source": [
    "df.head(3)"
   ]
  },
  {
   "cell_type": "code",
   "execution_count": 9,
   "metadata": {},
   "outputs": [],
   "source": [
    "%matplotlib inline\n",
    "import matplotlib.pyplot as plt\n",
    "import seaborn as sns"
   ]
  },
  {
   "cell_type": "code",
   "execution_count": 29,
   "metadata": {},
   "outputs": [
    {
     "data": {
      "text/plain": [
       "Unnamed: 0         int64\n",
       "attack_type       object\n",
       "id                 int64\n",
       "legs               int64\n",
       "localized_name    object\n",
       "name              object\n",
       "primary_attr      object\n",
       "roles             object\n",
       "dtype: object"
      ]
     },
     "execution_count": 29,
     "metadata": {},
     "output_type": "execute_result"
    }
   ],
   "source": [
    "df.dtypes"
   ]
  },
  {
   "cell_type": "code",
   "execution_count": 33,
   "metadata": {},
   "outputs": [
    {
     "data": {
      "text/plain": [
       "0                         ['Carry', 'Escape', 'Nuker']\n",
       "1      ['Initiator', 'Durable', 'Disabler', 'Jungler']\n",
       "2          ['Support', 'Disabler', 'Nuker', 'Durable']\n",
       "3    ['Carry', 'Disabler', 'Jungler', 'Nuker', 'Ini...\n",
       "4          ['Support', 'Disabler', 'Nuker', 'Jungler']\n",
       "Name: roles, dtype: object"
      ]
     },
     "execution_count": 33,
     "metadata": {},
     "output_type": "execute_result"
    }
   ],
   "source": [
    "df.roles.head(5)"
   ]
  },
  {
   "cell_type": "code",
   "execution_count": 83,
   "metadata": {},
   "outputs": [],
   "source": [
    "#df['roles_len'] = df['roles'].split('\\,').count() \n",
    "\n",
    "grades = []\n",
    " \n",
    "for i in  df['roles']:\n",
    "    grades.append(i.count(',')+1)"
   ]
  },
  {
   "cell_type": "code",
   "execution_count": 85,
   "metadata": {},
   "outputs": [],
   "source": [
    "\n",
    "mydf = pd.DataFrame()\n",
    "\n",
    "\n",
    "mydf['grades'] = grades"
   ]
  },
  {
   "cell_type": "code",
   "execution_count": 98,
   "metadata": {},
   "outputs": [
    {
     "data": {
      "text/plain": [
       "4    38\n",
       "5    33\n",
       "3    28\n",
       "2     9\n",
       "6     8\n",
       "1     1\n",
       "Name: grades, dtype: int64"
      ]
     },
     "execution_count": 98,
     "metadata": {},
     "output_type": "execute_result"
    }
   ],
   "source": [
    "mydf['grades'].value_counts()"
   ]
  },
  {
   "cell_type": "code",
   "execution_count": null,
   "metadata": {},
   "outputs": [],
   "source": []
  },
  {
   "cell_type": "code",
   "execution_count": null,
   "metadata": {},
   "outputs": [],
   "source": []
  },
  {
   "cell_type": "code",
   "execution_count": null,
   "metadata": {},
   "outputs": [],
   "source": []
  },
  {
   "cell_type": "code",
   "execution_count": null,
   "metadata": {},
   "outputs": [],
   "source": []
  }
 ],
 "metadata": {
  "kernelspec": {
   "display_name": "Python 3",
   "language": "python",
   "name": "python3"
  },
  "language_info": {
   "codemirror_mode": {
    "name": "ipython",
    "version": 3
   },
   "file_extension": ".py",
   "mimetype": "text/x-python",
   "name": "python",
   "nbconvert_exporter": "python",
   "pygments_lexer": "ipython3",
   "version": "3.7.3"
  }
 },
 "nbformat": 4,
 "nbformat_minor": 2
}
